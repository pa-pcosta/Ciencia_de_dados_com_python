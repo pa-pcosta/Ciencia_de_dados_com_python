{
  "nbformat": 4,
  "nbformat_minor": 0,
  "metadata": {
    "colab": {
      "provenance": [],
      "authorship_tag": "ABX9TyMQkGGInaOkXSOmq3W/YNGJ",
      "include_colab_link": true
    },
    "kernelspec": {
      "name": "python3",
      "display_name": "Python 3"
    },
    "language_info": {
      "name": "python"
    }
  },
  "cells": [
    {
      "cell_type": "markdown",
      "metadata": {
        "id": "view-in-github",
        "colab_type": "text"
      },
      "source": [
        "<a href=\"https://colab.research.google.com/github/pa-pcosta/NYC-Airbnb-Analysis/blob/main/notebooks/NYC_Airbnb_Analysis.ipynb\" target=\"_parent\"><img src=\"https://colab.research.google.com/assets/colab-badge.svg\" alt=\"Open In Colab\"/></a>"
      ]
    },
    {
      "cell_type": "markdown",
      "source": [
        "### **Importar bibliotecas e arquivos necessários**"
      ],
      "metadata": {
        "id": "815UA_g_KYLO"
      }
    },
    {
      "cell_type": "code",
      "execution_count": 7,
      "metadata": {
        "id": "jrIYx3IcBGxW"
      },
      "outputs": [],
      "source": [
        "import pandas\n",
        "import numpy\n",
        "\n",
        "urlDataSetAlugueisAirbnbNyc = \"https://raw.githubusercontent.com/pa-pcosta/NYC-Airbnb-Analysis/main/dataset/AB_NYC_2019.csv\";\n",
        "\n",
        "data = pandas.read_csv(urlDataSetAlugueisAirbnbNyc);"
      ]
    },
    {
      "cell_type": "markdown",
      "source": [
        "## Calcular a média de valores de aluguel na cidade de NY"
      ],
      "metadata": {
        "id": "bOczuKcAIUJk"
      }
    },
    {
      "cell_type": "markdown",
      "source": [
        "1. Selecionar coluna com valores de aluguel\n",
        "2. Calcular média dos valores na coluna"
      ],
      "metadata": {
        "id": "Y1se0VlHKo3I"
      }
    },
    {
      "cell_type": "code",
      "source": [
        "precosDeAlugueis = data.loc[:, 'price'];\n",
        "mediaPrecosDeAlugueis = numpy.mean(precosDeAlugueis);\n",
        "\n",
        "print(mediaPrecosDeAlugueis);"
      ],
      "metadata": {
        "colab": {
          "base_uri": "https://localhost:8080/"
        },
        "id": "zI2hSEXjI22F",
        "outputId": "886ef801-d141-4cc1-f2e0-13d14be202d0"
      },
      "execution_count": null,
      "outputs": [
        {
          "output_type": "stream",
          "name": "stdout",
          "text": [
            "152.7206871868289\n"
          ]
        }
      ]
    },
    {
      "cell_type": "markdown",
      "source": [
        "## Contar regiões distintas de NY"
      ],
      "metadata": {
        "id": "kdLrekJTKz_m"
      }
    },
    {
      "cell_type": "markdown",
      "source": [
        "1. Selecionar coluna com nomes das regiões\n",
        "2. Contar nomes não repetidos"
      ],
      "metadata": {
        "id": "ONmwYcMDLHpA"
      }
    },
    {
      "cell_type": "code",
      "source": [
        "regioes = pandas.unique(data.loc[:, 'neighbourhood_group']);\n",
        "\n",
        "print(regioes);"
      ],
      "metadata": {
        "colab": {
          "base_uri": "https://localhost:8080/"
        },
        "id": "SNHG-xiqLX5o",
        "outputId": "715d9e96-5e2f-4b2b-8a0b-7b1957d61aa3"
      },
      "execution_count": null,
      "outputs": [
        {
          "output_type": "stream",
          "name": "stdout",
          "text": [
            "['Brooklyn' 'Manhattan' 'Queens' 'Staten Island' 'Bronx']\n"
          ]
        }
      ]
    },
    {
      "cell_type": "markdown",
      "source": [
        "## Encontrar valor máximo de aluguel em NYC"
      ],
      "metadata": {
        "id": "MPb0yRC-M-n2"
      }
    },
    {
      "cell_type": "markdown",
      "source": [
        "1. Selecionar coluna com valores de aluguel\n",
        "2. Encontrar valor máximo na coluna"
      ],
      "metadata": {
        "id": "OpNNfn1RNG3m"
      }
    },
    {
      "cell_type": "code",
      "source": [
        "maiorAluguel = numpy.max(precosDeAlugueis);\n",
        "\n",
        "print(maiorAluguel);"
      ],
      "metadata": {
        "colab": {
          "base_uri": "https://localhost:8080/"
        },
        "id": "Q0swS_lSNRvm",
        "outputId": "229f9696-f145-4038-abbd-68cf740470db"
      },
      "execution_count": null,
      "outputs": [
        {
          "output_type": "stream",
          "name": "stdout",
          "text": [
            "10000\n"
          ]
        }
      ]
    }
  ]
}