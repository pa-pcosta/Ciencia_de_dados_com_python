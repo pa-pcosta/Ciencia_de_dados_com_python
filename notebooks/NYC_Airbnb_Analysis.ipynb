{
  "nbformat": 4,
  "nbformat_minor": 0,
  "metadata": {
    "colab": {
      "provenance": [],
      "collapsed_sections": [
        "815UA_g_KYLO",
        "bOczuKcAIUJk",
        "kdLrekJTKz_m",
        "MPb0yRC-M-n2"
      ],
      "authorship_tag": "ABX9TyOXR1ARqUZ+J8GsJ0VvG2DT",
      "include_colab_link": true
    },
    "kernelspec": {
      "name": "python3",
      "display_name": "Python 3"
    },
    "language_info": {
      "name": "python"
    }
  },
  "cells": [
    {
      "cell_type": "markdown",
      "metadata": {
        "id": "view-in-github",
        "colab_type": "text"
      },
      "source": [
        "<a href=\"https://colab.research.google.com/github/pa-pcosta/NYC-Airbnb-Analysis/blob/ciclo-02-novas-perguntas-do-ceo/NYC_Airbnb_Analysis.ipynb\" target=\"_parent\"><img src=\"https://colab.research.google.com/assets/colab-badge.svg\" alt=\"Open In Colab\"/></a>"
      ]
    },
    {
      "cell_type": "markdown",
      "source": [
        "# **1. Produto final**"
      ],
      "metadata": {
        "id": "on2Xyu7HwKuj"
      }
    },
    {
      "cell_type": "markdown",
      "source": [
        "Respostas para as perguntas que esse projeto buscava responder:\n",
        "\n",
        "> *a. Qual o valor médio do aluguel na cidade de Nova York?*\n",
        "* 152.72\n",
        "\n",
        "> *b. Quais os nomes das regiões que existem na cidade de Nova York?*\n",
        "* 'Bronx' 'Brooklyn' 'Manhattan' 'Queens' 'Staten Island'\n",
        "\n",
        "> *c. Qual o valor do aluguel diário mais caro da cidade de Nova York?*\n",
        "* 10.000,00\n",
        "\n",
        "> *d. Quais são as categorias de imóveis que estão cadastradas dentro da base de dados da cidade de Nova York?*\n",
        "* 'Entire home/apt' 'Private room' 'Shared room'\n",
        "\n",
        "> *e. Quantos usuários (Hosts) únicos cadastrados existem dentro da base de dados da cidade de Nova York?*\n",
        "* 37457\n",
        "\n",
        "> *f. Como é a variação do preços dos imóveis em NY?*\n",
        "* média = 152,72; Desvio padrão = 240.15\n",
        "\n",
        "> *g. Existem mais imóveis baratos ou caros?*\n",
        "* ![image.png](data:image/png;base64,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)\n",
        "\n",
        "> *h. Qual a distribuição do número de Reviews? Existem imóveis com muitos e outros com poucos reviews?*\n",
        "* ![image.png](data:image/png;base64,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)"
      ],
      "metadata": {
        "id": "-T-ID5x8wZKz"
      }
    },
    {
      "cell_type": "markdown",
      "source": [
        "# **2. Planejamento e Execução:**"
      ],
      "metadata": {
        "id": "uqmoGmMJ0J2s"
      }
    },
    {
      "cell_type": "markdown",
      "source": [
        "### Importar bibliotecas e arquivos necessários"
      ],
      "metadata": {
        "id": "815UA_g_KYLO"
      }
    },
    {
      "cell_type": "code",
      "execution_count": 34,
      "metadata": {
        "id": "jrIYx3IcBGxW"
      },
      "outputs": [],
      "source": [
        "import pandas as pd\n",
        "import numpy as np\n",
        "import matplotlib.pyplot as plt\n",
        "\n",
        "\n",
        "url_data_set_alugueis_airbnb_nyc = \"https://raw.githubusercontent.com/pa-pcosta/NYC-Airbnb-Analysis/main/dataset/AB_NYC_2019.csv\";\n",
        "\n",
        "data = pd.read_csv(url_data_set_alugueis_airbnb_nyc);"
      ]
    },
    {
      "cell_type": "markdown",
      "source": [
        "### a. Calcular a média de valores de aluguel na cidade de NY"
      ],
      "metadata": {
        "id": "bOczuKcAIUJk"
      }
    },
    {
      "cell_type": "code",
      "source": [
        "coluna_preco = 'price'\n",
        "precos_alugueis = data.loc[:, coluna_preco];\n",
        "media_precos_alugueis = np.mean(precos_alugueis);\n",
        "\n",
        "print(media_precos_alugueis);"
      ],
      "metadata": {
        "colab": {
          "base_uri": "https://localhost:8080/"
        },
        "id": "zI2hSEXjI22F",
        "outputId": "f85878c7-a869-4a6e-bc5b-0f4a9f2a8ca2"
      },
      "execution_count": 47,
      "outputs": [
        {
          "output_type": "stream",
          "name": "stdout",
          "text": [
            "152.7206871868289\n"
          ]
        }
      ]
    },
    {
      "cell_type": "markdown",
      "source": [
        "### b. Contar regiões distintas de NY"
      ],
      "metadata": {
        "id": "kdLrekJTKz_m"
      }
    },
    {
      "cell_type": "code",
      "source": [
        "coluna_regioes = 'neighbourhood_group'\n",
        "\n",
        "regioes = np.unique(data.loc[:, coluna_regioes]);\n",
        "\n",
        "print(regioes);"
      ],
      "metadata": {
        "colab": {
          "base_uri": "https://localhost:8080/"
        },
        "id": "SNHG-xiqLX5o",
        "outputId": "b5ee11f7-e095-448e-ed41-3b0e8fb358db"
      },
      "execution_count": null,
      "outputs": [
        {
          "output_type": "stream",
          "name": "stdout",
          "text": [
            "['Bronx' 'Brooklyn' 'Manhattan' 'Queens' 'Staten Island']\n"
          ]
        }
      ]
    },
    {
      "cell_type": "markdown",
      "source": [
        "### c. Encontrar valor máximo de aluguel em NYC"
      ],
      "metadata": {
        "id": "MPb0yRC-M-n2"
      }
    },
    {
      "cell_type": "code",
      "source": [
        "maior_aluguel = np.max(precos_alugueis);\n",
        "\n",
        "print(maior_aluguel);"
      ],
      "metadata": {
        "colab": {
          "base_uri": "https://localhost:8080/"
        },
        "id": "Q0swS_lSNRvm",
        "outputId": "0a3cc447-3e51-413e-e361-053c34f5819d"
      },
      "execution_count": null,
      "outputs": [
        {
          "output_type": "stream",
          "name": "stdout",
          "text": [
            "10000\n"
          ]
        }
      ]
    },
    {
      "cell_type": "markdown",
      "source": [
        "### d. Contar nomes distintos que aparecem na coluna “room_type”\n"
      ],
      "metadata": {
        "id": "-85BsCqDOYXM"
      }
    },
    {
      "cell_type": "code",
      "source": [
        "coluna_tipos_imoveis = 'room_type'\n",
        "\n",
        "tipos_imoveis = np.unique(data.loc[:, coluna_tipos_imoveis])\n",
        "\n",
        "print(tipos_imoveis)"
      ],
      "metadata": {
        "colab": {
          "base_uri": "https://localhost:8080/"
        },
        "id": "DWUi5XsSKEG5",
        "outputId": "ac49f1f5-b4dc-44df-9c5d-7a0608ed48b3"
      },
      "execution_count": null,
      "outputs": [
        {
          "output_type": "stream",
          "name": "stdout",
          "text": [
            "['Entire home/apt' 'Private room' 'Shared room']\n"
          ]
        }
      ]
    },
    {
      "cell_type": "markdown",
      "source": [
        "### e. Contar nomes distintos que aparecem na coluna “host_id”\n"
      ],
      "metadata": {
        "id": "gB5bxzEn2Vxd"
      }
    },
    {
      "cell_type": "code",
      "source": [
        "coluna_id_host = 'host_id'\n",
        "\n",
        "anuncios_de_hosts = data.loc[:, coluna_id_host]\n",
        "\n",
        "quantidade_hosts = len(np.unique(anuncios_de_hosts))\n",
        "\n",
        "print(quantidade_hosts)"
      ],
      "metadata": {
        "colab": {
          "base_uri": "https://localhost:8080/"
        },
        "id": "vnyoo9QpOrfr",
        "outputId": "c450e808-15c7-4799-d17f-556f07a20285"
      },
      "execution_count": null,
      "outputs": [
        {
          "output_type": "stream",
          "name": "stdout",
          "text": [
            "37457\n"
          ]
        }
      ]
    },
    {
      "cell_type": "markdown",
      "source": [
        "### f. Calcular desvio padrão do preço dos imóveis"
      ],
      "metadata": {
        "id": "ASmrdMdDRjar"
      }
    },
    {
      "cell_type": "code",
      "source": [
        "np.std(precos_alugueis)"
      ],
      "metadata": {
        "id": "_yK3XmZoRpRp",
        "colab": {
          "base_uri": "https://localhost:8080/"
        },
        "outputId": "1dd0fbe7-09d3-46cb-e516-80a6c44e31d6"
      },
      "execution_count": null,
      "outputs": [
        {
          "output_type": "execute_result",
          "data": {
            "text/plain": [
              "240.15171391941718"
            ]
          },
          "metadata": {},
          "execution_count": 7
        }
      ]
    },
    {
      "cell_type": "markdown",
      "source": [
        "### g. Construir histograma de variação de preços de aluguel."
      ],
      "metadata": {
        "id": "qr5lCNShV3sQ"
      }
    },
    {
      "cell_type": "code",
      "source": [
        "valor_aluguel_maximo = 1100\n",
        "variacao_aluguel_a_ser_apresentado = 100\n",
        "linhas_abaixo_do_aluguel_maximo = data.loc[:, coluna_preco] < valor_aluguel_maximo\n",
        "linhas_filtradas_para_histograma_precos = data.loc[linhas_abaixo_do_aluguel_maximo, coluna_preco]\n",
        "numero_de_bins_no_histograma = int(valor_aluguel_maximo / variacao_aluguel_a_ser_apresentado)\n",
        "\n",
        "plt.hist(linhas_filtradas_para_histograma_precos, bins= numero_de_bins_no_histograma);"
      ],
      "metadata": {
        "colab": {
          "base_uri": "https://localhost:8080/",
          "height": 430
        },
        "id": "ujsTRXFEWe94",
        "outputId": "f89f1c2a-5503-4978-d1de-64232cd56e4a"
      },
      "execution_count": 35,
      "outputs": [
        {
          "output_type": "display_data",
          "data": {
            "text/plain": [
              "<Figure size 640x480 with 1 Axes>"
            ],
            "image/png": "[encoded data removed]"
          },
          "metadata": {}
        }
      ]
    },
    {
      "cell_type": "markdown",
      "source": [
        "### h. Construir histograma de variação de números de reviews."
      ],
      "metadata": {
        "id": "en8-xWdjisvt"
      }
    },
    {
      "cell_type": "code",
      "source": [
        "coluna_numeros_de_reviews = 'number_of_reviews'\n",
        "linhas = data.loc[:, coluna_numeros_de_reviews] < 300\n",
        "reviews = data.loc[linhas, coluna_numeros_de_reviews]\n",
        "\n",
        "plt.hist(reviews, bins= 30);"
      ],
      "metadata": {
        "colab": {
          "base_uri": "https://localhost:8080/",
          "height": 430
        },
        "outputId": "700e3cb7-a2ca-4725-9b5a-a06f2ab862ff",
        "id": "M-poveOmisvu"
      },
      "execution_count": 46,
      "outputs": [
        {
          "output_type": "display_data",
          "data": {
            "text/plain": [
              "<Figure size 640x480 with 1 Axes>"
            ],
            "image/png": "[encoded data removed]"
          },
          "metadata": {}
        }
      ]
    }
  ]
}